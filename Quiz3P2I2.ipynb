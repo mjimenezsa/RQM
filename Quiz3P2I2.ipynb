{
 "cells": [
  {
   "cell_type": "code",
   "execution_count": 1106,
   "metadata": {},
   "outputs": [],
   "source": [
    "import matplotlib, matplotlib.pyplot as plt\n",
    "import scipy, scipy.special as sp\n",
    "import seaborn as sns\n",
    "import numpy as np\n",
    "import numpy.linalg as npl\n",
    "import math\n",
    "import os\n",
    "from scipy.sparse import diags\n",
    "from scipy.sparse.linalg import eigsh\n",
    "from scipy.linalg import solve,pinv,null_space,inv\n",
    "import torch\n",
    "from scipy.integrate import odeint,solve_bvp"
   ]
  },
  {
   "cell_type": "code",
   "execution_count": 1107,
   "metadata": {},
   "outputs": [],
   "source": [
    "lim=5\n",
    "P=int(1e3)\n",
    "r=np.array([x for x in np.linspace(0,lim,P) if x!=0])\n",
    "m=0.510 #in Mev\n",
    "c=1\n",
    "hbar=1\n",
    "Z=1\n",
    "e0=-1.602e-19\n",
    "alpha=1/(137.035999084)"
   ]
  },
  {
   "cell_type": "code",
   "execution_count": 1108,
   "metadata": {},
   "outputs": [],
   "source": [
    "k=-1"
   ]
  },
  {
   "cell_type": "code",
   "execution_count": 1109,
   "metadata": {},
   "outputs": [],
   "source": [
    "def odes(r,x,p):\n",
    "    E=p[0]\n",
    "    #coef\n",
    "    a1=-(k+1)/r\n",
    "    a2=E+(Z*alpha/r)+m\n",
    "    b1=(k-1)/r\n",
    "    b2=E+(Z*alpha/r)-m\n",
    "\n",
    "    return np.vstack((-a1*x[0]+a2*x[1],b1*x[1]-b2*x[0]))"
   ]
  },
  {
   "cell_type": "code",
   "execution_count": 1110,
   "metadata": {},
   "outputs": [],
   "source": [
    "def bc(ya, yb,p):\n",
    "    E=p[0]\n",
    "    return np.array([ya[0], yb[0],ya[1]])"
   ]
  },
  {
   "cell_type": "code",
   "execution_count": 1111,
   "metadata": {},
   "outputs": [],
   "source": [
    "y= np.zeros((2, r.shape[0]))\n",
    "y[0,2]=np.exp(-r[2])\n",
    "y[1,2]=np.exp(r[2])"
   ]
  },
  {
   "cell_type": "code",
   "execution_count": 1112,
   "metadata": {},
   "outputs": [
    {
     "name": "stdout",
     "output_type": "stream",
     "text": [
      "   Iteration    Max residual  Max BC residual  Total nodes    Nodes added  \n",
      "       1          1.54e-07       7.70e-34          999             0       \n",
      "Solved in 1 iterations, number of nodes 999. \n",
      "Maximum relative residual: 1.54e-07 \n",
      "Maximum boundary residual: 7.70e-34\n"
     ]
    }
   ],
   "source": [
    "result = solve_bvp(odes,bc,r,y,p=[1.36e-5],verbose=2)"
   ]
  },
  {
   "cell_type": "code",
   "execution_count": 1113,
   "metadata": {},
   "outputs": [],
   "source": [
    "E=result.p[0]"
   ]
  },
  {
   "cell_type": "code",
   "execution_count": 1114,
   "metadata": {},
   "outputs": [
    {
     "name": "stdout",
     "output_type": "stream",
     "text": [
      "1.3602400807307767e-05\n"
     ]
    }
   ],
   "source": [
    "print(E)"
   ]
  },
  {
   "cell_type": "code",
   "execution_count": 1115,
   "metadata": {},
   "outputs": [],
   "source": [
    "x_measles_plot = np.linspace(0.3,lim,P-1)\n",
    "y_measles_plot = result.sol(x_measles_plot)"
   ]
  },
  {
   "cell_type": "code",
   "execution_count": 1116,
   "metadata": {},
   "outputs": [
    {
     "data": {
      "image/png": "[encoded data removed]",
      "text/plain": [
       "<Figure size 432x288 with 1 Axes>"
      ]
     },
     "metadata": {
      "needs_background": "light"
     },
     "output_type": "display_data"
    }
   ],
   "source": [
    "plt.plot(r, y_measles_plot[0] , label='$g$')\n",
    "plt.legend()\n",
    "plt.show()"
   ]
  },
  {
   "cell_type": "code",
   "execution_count": 1117,
   "metadata": {},
   "outputs": [
    {
     "data": {
      "image/png": "[encoded data removed]",
      "text/plain": [
       "<Figure size 432x288 with 1 Axes>"
      ]
     },
     "metadata": {
      "needs_background": "light"
     },
     "output_type": "display_data"
    }
   ],
   "source": [
    "plt.plot(r, y_measles_plot[1], label='$f$',color='r')\n",
    "plt.legend()\n",
    "plt.show()"
   ]
  }
 ],
 "metadata": {
  "kernelspec": {
   "display_name": "Python 3",
   "language": "python",
   "name": "python3"
  },
  "language_info": {
   "codemirror_mode": {
    "name": "ipython",
    "version": 3
   },
   "file_extension": ".py",
   "mimetype": "text/x-python",
   "name": "python",
   "nbconvert_exporter": "python",
   "pygments_lexer": "ipython3",
   "version": "3.10.4"
  },
  "orig_nbformat": 4
 },
 "nbformat": 4,
 "nbformat_minor": 2
}
