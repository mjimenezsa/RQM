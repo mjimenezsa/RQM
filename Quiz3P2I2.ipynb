{
 "cells": [
  {
   "cell_type": "code",
   "execution_count": 1423,
   "metadata": {},
   "outputs": [],
   "source": [
    "import matplotlib, matplotlib.pyplot as plt\n",
    "import scipy, scipy.special as sp\n",
    "import seaborn as sns\n",
    "import numpy as np\n",
    "import numpy.linalg as npl\n",
    "import math\n",
    "import os\n",
    "import torch\n",
    "from scipy.integrate import odeint,solve_bvp\n",
    "import scipy.integrate as integrate"
   ]
  },
  {
   "cell_type": "code",
   "execution_count": 1424,
   "metadata": {},
   "outputs": [],
   "source": [
    "plt.rcParams['font.family'] = 'STIXGeneral'\n",
    "plt.rcParams['mathtext.fontset'] = 'stix'"
   ]
  },
  {
   "cell_type": "code",
   "execution_count": 1425,
   "metadata": {},
   "outputs": [],
   "source": [
    "lim=5\n",
    "P=int(1e4)\n",
    "r=np.array([x for x in np.linspace(0,lim,P) if x!=0])\n",
    "m=0.510 #in Mev\n",
    "c=1\n",
    "hbar=1\n",
    "Z=1\n",
    "e0=-1.602e-19\n",
    "alpha=1/(137.035999084)"
   ]
  },
  {
   "cell_type": "code",
   "execution_count": 1426,
   "metadata": {},
   "outputs": [],
   "source": [
    "k=-1 #Esta seria el valor de k para el estado base según su definición"
   ]
  },
  {
   "cell_type": "code",
   "execution_count": 1427,
   "metadata": {},
   "outputs": [],
   "source": [
    "def odes(r,x,p):\n",
    "\n",
    "    E=p[0]  #Proponemos que E sea un parámetro desconocido\n",
    "    #coef\n",
    "    a1=-(k+1)/r\n",
    "    a2=E+(Z*alpha/r)+m\n",
    "    b1=(k-1)/r\n",
    "    b2=E+(Z*alpha/r)-m\n",
    "    \n",
    "    return np.vstack((a1*x[0]+a2*x[1],b1*x[1]-b2*x[0]))"
   ]
  },
  {
   "cell_type": "code",
   "execution_count": 1428,
   "metadata": {},
   "outputs": [],
   "source": [
    "def bc(ya, yb,p):\n",
    "    E=p[0]\n",
    "    return np.array([ya[0], yb[0],ya[1]])"
   ]
  },
  {
   "cell_type": "code",
   "execution_count": 1429,
   "metadata": {},
   "outputs": [],
   "source": [
    "y= np.zeros((2, r.shape[0]))\n",
    "y[0,2]=alpha*np.exp(r[2]) #Generamos una solución ansatz que tanto f como g deben comportase como la funcion del atomo de Hidrogeno de Schrodinger."
   ]
  },
  {
   "cell_type": "code",
   "execution_count": 1430,
   "metadata": {},
   "outputs": [
    {
     "name": "stdout",
     "output_type": "stream",
     "text": [
      "   Iteration    Max residual  Max BC residual  Total nodes    Nodes added  \n",
      "       1          3.72e-13       0.00e+00         9999            (0)      \n",
      "Number of nodes is exceeded after iteration 1. \n",
      "Maximum relative residual: 3.72e-13 \n",
      "Maximum boundary residual: 0.00e+00\n"
     ]
    }
   ],
   "source": [
    "result = solve_bvp(odes,bc,r,y,p=[m-1.36e-5],verbose=2) #Resolvemos con un propuesta de E igual al atomo de Hidrogeno"
   ]
  },
  {
   "cell_type": "code",
   "execution_count": 1431,
   "metadata": {},
   "outputs": [],
   "source": [
    "E=result.p[0]"
   ]
  },
  {
   "cell_type": "code",
   "execution_count": 1432,
   "metadata": {},
   "outputs": [
    {
     "name": "stdout",
     "output_type": "stream",
     "text": [
      "0.5099863999406358\n"
     ]
    }
   ],
   "source": [
    "print(E) #Obtenemos que efectivamente las ODEs acopladas y la funcion de scipy aceptan este valor"
   ]
  },
  {
   "cell_type": "code",
   "execution_count": 1433,
   "metadata": {},
   "outputs": [],
   "source": [
    "x_measles_plot = np.linspace(0.2,lim,P-1)\n",
    "y_measles_plot = result.sol(x_measles_plot)\n",
    "g=y_measles_plot[0]\n",
    "f=y_measles_plot[1]"
   ]
  },
  {
   "cell_type": "code",
   "execution_count": 1434,
   "metadata": {},
   "outputs": [
    {
     "data": {
      "text/plain": [
       "4.730511696015433e-20"
      ]
     },
     "execution_count": 1434,
     "metadata": {},
     "output_type": "execute_result"
    }
   ],
   "source": [
    "S=(f**2+g**2)*r**2\n",
    "norm=integrate.simps((f**2+g**2)*r**2)\n",
    "np.sqrt(norm)"
   ]
  },
  {
   "cell_type": "code",
   "execution_count": 1435,
   "metadata": {},
   "outputs": [],
   "source": [
    "gn=np.sqrt(1/norm)*g\n",
    "fn=np.sqrt(1/norm)*f #Normalizamos las funciones radiales"
   ]
  },
  {
   "cell_type": "code",
   "execution_count": 1436,
   "metadata": {},
   "outputs": [
    {
     "data": {
      "text/plain": [
       "1.0000000000000002"
      ]
     },
     "execution_count": 1436,
     "metadata": {},
     "output_type": "execute_result"
    }
   ],
   "source": [
    "S2=(fn**2+gn**2)*r**2\n",
    "norm2=integrate.simps((fn**2+gn**2)*r**2)\n",
    "norm2"
   ]
  },
  {
   "cell_type": "code",
   "execution_count": 1437,
   "metadata": {},
   "outputs": [
    {
     "data": {
      "image/png": "[encoded data removed]",
      "text/plain": [
       "<Figure size 432x288 with 1 Axes>"
      ]
     },
     "metadata": {
      "needs_background": "light"
     },
     "output_type": "display_data"
    }
   ],
   "source": [
    "plt.plot(r, gn , label='$g(r)$')\n",
    "plt.plot(r, -fn, label='$-f(r)$',color='r')\n",
    "plt.legend()\n",
    "plt.xlabel('r')\n",
    "plt.ylabel('Función radial')\n",
    "plt.title('Funciones de Onda')\n",
    "plt.show()"
   ]
  },
  {
   "cell_type": "code",
   "execution_count": 1438,
   "metadata": {},
   "outputs": [
    {
     "data": {
      "text/plain": [
       "4.999036982600468"
      ]
     },
     "execution_count": 1438,
     "metadata": {},
     "output_type": "execute_result"
    }
   ],
   "source": [
    "abs(fn[0]/gn[0]) #Observamos que a priori una función es mucho mas grande que la otra."
   ]
  },
  {
   "cell_type": "code",
   "execution_count": 1439,
   "metadata": {},
   "outputs": [],
   "source": [
    "def angular_function(l, lproy, theta, phi):\n",
    "    legendre = sp.lpmv(lproy, l, np.cos(theta))\n",
    "    m=lproy\n",
    "    if l==0 and m==1:\n",
    "        return 0\n",
    "    else:\n",
    "        return ((-1) ** m) * np.sqrt(\n",
    "        ((2 * l + 1) * np.math.factorial(l - m))\n",
    "        / (4 * np.pi * np.math.factorial(l + m))) * legendre * np.real(np.exp(1.j * m * phi))"
   ]
  },
  {
   "cell_type": "code",
   "execution_count": 1440,
   "metadata": {},
   "outputs": [],
   "source": [
    "def funciones(gn,fn,theta,lproy,phi): #m=0.5\n",
    "    psi1=1j*gn*np.sqrt((k+0.5-lproy)/(2*k+1))*angular_function(-k-1,int(lproy-0.5),theta,phi)\n",
    "    psi2=1j*gn*np.sqrt((k+0.5+lproy)/(2*k+1))*angular_function(-k-1,int(lproy+0.5),theta,phi)\n",
    "    psi3=fn*np.sqrt((-k+0.5-lproy)/(-2*k+1))*angular_function(-k,int(lproy-0.5),theta,phi)\n",
    "    psi4=fn*np.sqrt((-k+0.5-lproy)/(-2*k+1))*angular_function(-k,int(lproy+0.5),theta,phi)\n",
    "    psiT=[psi1,psi2,psi3,psi4]\n",
    "    psiTN=[]\n",
    "    for i in psiT:\n",
    "        if np.linalg.norm(i)!=0:\n",
    "            psiTN.append(i/np.linalg.norm(i))\n",
    "        else:\n",
    "            psiTN.append(i)\n",
    "    return psiTN"
   ]
  },
  {
   "cell_type": "code",
   "execution_count": 1441,
   "metadata": {},
   "outputs": [],
   "source": [
    "def density(fun):\n",
    "    return np.real(np.conj(fun)*fun)"
   ]
  },
  {
   "cell_type": "code",
   "execution_count": 1442,
   "metadata": {},
   "outputs": [],
   "source": [
    "def densityN(fun):\n",
    "    return density(fun)/np.mean(density(fun))"
   ]
  },
  {
   "cell_type": "code",
   "execution_count": 1443,
   "metadata": {},
   "outputs": [],
   "source": [
    "theta=[i for i in np.linspace(0,np.pi,len(x_measles_plot))]\n",
    "rho=densityN(funciones(gn,fn,theta,0.5,0))"
   ]
  },
  {
   "cell_type": "code",
   "execution_count": 1444,
   "metadata": {},
   "outputs": [
    {
     "data": {
      "image/png": "[encoded data removed]",
      "text/plain": [
       "<Figure size 432x288 with 1 Axes>"
      ]
     },
     "metadata": {
      "needs_background": "light"
     },
     "output_type": "display_data"
    },
    {
     "data": {
      "image/png": "[encoded data removed]",
      "text/plain": [
       "<Figure size 432x288 with 1 Axes>"
      ]
     },
     "metadata": {
      "needs_background": "light"
     },
     "output_type": "display_data"
    },
    {
     "data": {
      "image/png": "[encoded data removed]",
      "text/plain": [
       "<Figure size 432x288 with 1 Axes>"
      ]
     },
     "metadata": {
      "needs_background": "light"
     },
     "output_type": "display_data"
    },
    {
     "data": {
      "image/png": "[encoded data removed]",
      "text/plain": [
       "<Figure size 432x288 with 1 Axes>"
      ]
     },
     "metadata": {
      "needs_background": "light"
     },
     "output_type": "display_data"
    }
   ],
   "source": [
    "for i in range(4):\n",
    "    plt.plot(r,rho[i])\n",
    "    plt.title('Densidad de Probabilidad Radial ' + '$\\psi(x)= $'+str(i+1))\n",
    "    plt.xlabel('r',fontsize=12)\n",
    "    plt.ylabel(r'$|\\Psi(x)|^{2}$',fontsize=12)\n",
    "    plt.show()"
   ]
  },
  {
   "cell_type": "code",
   "execution_count": 1445,
   "metadata": {},
   "outputs": [],
   "source": [
    "def ProbabilidadNegativa(funcion):\n",
    "    positron=funcion\n",
    "    return np.mean(np.real(np.conj(positron)*positron))"
   ]
  },
  {
   "cell_type": "code",
   "execution_count": 1446,
   "metadata": {},
   "outputs": [
    {
     "data": {
      "text/plain": [
       "1.0000000000000002"
      ]
     },
     "execution_count": 1446,
     "metadata": {},
     "output_type": "execute_result"
    }
   ],
   "source": [
    "np.mean(rho)"
   ]
  },
  {
   "cell_type": "code",
   "execution_count": 1447,
   "metadata": {},
   "outputs": [],
   "source": [
    "rhoP=ProbabilidadNegativa(funciones(gn,fn,theta,0.5,0)[0:1])"
   ]
  },
  {
   "cell_type": "code",
   "execution_count": 1448,
   "metadata": {},
   "outputs": [
    {
     "name": "stdout",
     "output_type": "stream",
     "text": [
      "La Probabilidad de encontrar un estado de energía negativo en el estado fundamental es:  50.0 %\n"
     ]
    }
   ],
   "source": [
    "rhoN=ProbabilidadNegativa(funciones(gn,fn,theta,0.5,0)[2:])\n",
    "perrhoN=rhoN*100/(rhoN+rhoP)\n",
    "print('La Probabilidad de encontrar un estado de energía negativo en el estado fundamental es: ', str(round(perrhoN,2)) +' %')"
   ]
  }
 ],
 "metadata": {
  "kernelspec": {
   "display_name": "Python 3",
   "language": "python",
   "name": "python3"
  },
  "language_info": {
   "codemirror_mode": {
    "name": "ipython",
    "version": 3
   },
   "file_extension": ".py",
   "mimetype": "text/x-python",
   "name": "python",
   "nbconvert_exporter": "python",
   "pygments_lexer": "ipython3",
   "version": "3.10.4"
  },
  "orig_nbformat": 4
 },
 "nbformat": 4,
 "nbformat_minor": 2
}
